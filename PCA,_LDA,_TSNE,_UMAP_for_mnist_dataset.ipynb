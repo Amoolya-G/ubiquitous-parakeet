{
  "nbformat": 4,
  "nbformat_minor": 0,
  "metadata": {
    "colab": {
      "name": "PCA, LDA, TSNE, UMAP for mnist dataset",
      "private_outputs": true,
      "provenance": [],
      "collapsed_sections": []
    },
    "kernelspec": {
      "name": "python3",
      "display_name": "Python 3"
    },
    "accelerator": "GPU"
  },
  "cells": [
    {
      "cell_type": "code",
      "metadata": {
        "id": "8WC4UVffvb-X"
      },
      "source": [
        "import pandas as pd\r\n",
        "import numpy as np\r\n",
        "import time\r\n",
        "from pandas import DataFrame\r\n",
        "from sklearn.preprocessing import StandardScaler\r\n",
        "from sklearn.decomposition import PCA\r\n",
        "import matplotlib.pyplot as plt\r\n",
        "import seaborn as sns"
      ],
      "execution_count": null,
      "outputs": []
    },
    {
      "cell_type": "code",
      "metadata": {
        "id": "HcnC1H8eJYFX"
      },
      "source": [
        ""
      ],
      "execution_count": null,
      "outputs": []
    },
    {
      "cell_type": "code",
      "metadata": {
        "id": "J4bPYTDOwtzL"
      },
      "source": [
        "from google.colab import drive\r\n",
        "drive.mount('/content/drive/')"
      ],
      "execution_count": null,
      "outputs": []
    },
    {
      "cell_type": "code",
      "metadata": {
        "id": "aCVyHs3ZxJ9y"
      },
      "source": [
        "df=pd.read_csv('/content/drive/MyDrive/mnist_train.csv')"
      ],
      "execution_count": null,
      "outputs": []
    },
    {
      "cell_type": "code",
      "metadata": {
        "id": "1XgXJitixKuM"
      },
      "source": [
        "df"
      ],
      "execution_count": null,
      "outputs": []
    },
    {
      "cell_type": "code",
      "metadata": {
        "id": "Pq1aX8FeZ8tG"
      },
      "source": [
        "df.head(1000)"
      ],
      "execution_count": null,
      "outputs": []
    },
    {
      "cell_type": "code",
      "metadata": {
        "id": "xN3AyPnM3-Sj"
      },
      "source": [
        "newdf= df.head()"
      ],
      "execution_count": null,
      "outputs": []
    },
    {
      "cell_type": "code",
      "metadata": {
        "id": "iWh61YOTaAum"
      },
      "source": [
        "df.describe()"
      ],
      "execution_count": null,
      "outputs": []
    },
    {
      "cell_type": "code",
      "metadata": {
        "id": "GwDBIEQEaXjP"
      },
      "source": [
        "x=df.drop('label',1)\r\n",
        "y=df['label']"
      ],
      "execution_count": null,
      "outputs": []
    },
    {
      "cell_type": "code",
      "metadata": {
        "id": "ByK7LokqazAQ"
      },
      "source": [
        "x.isnull().sum()"
      ],
      "execution_count": null,
      "outputs": []
    },
    {
      "cell_type": "code",
      "metadata": {
        "id": "LhOWp8LGfD6d"
      },
      "source": [
        "\r\n",
        "df1=df.T\r\n"
      ],
      "execution_count": null,
      "outputs": []
    },
    {
      "cell_type": "code",
      "metadata": {
        "id": "5aL16wgiEpRf"
      },
      "source": [
        "df1"
      ],
      "execution_count": null,
      "outputs": []
    },
    {
      "cell_type": "code",
      "metadata": {
        "id": "k4TLJc1YEqeF"
      },
      "source": [
        "!nvidia-smi"
      ],
      "execution_count": null,
      "outputs": []
    },
    {
      "cell_type": "code",
      "metadata": {
        "id": "odrfxEi8GaYu"
      },
      "source": [
        "\r\n",
        "%%time\r\n",
        "c=StandardScaler().fit_transform(x)\r\n",
        "c=pd.DataFrame(c)\r\n",
        "c.columns=x.columns\r\n",
        "print(c.head())"
      ],
      "execution_count": null,
      "outputs": []
    },
    {
      "cell_type": "code",
      "metadata": {
        "id": "ffJlZjKwQBt7"
      },
      "source": [
        ""
      ],
      "execution_count": null,
      "outputs": []
    },
    {
      "cell_type": "code",
      "metadata": {
        "id": "8nJLTO6uYhOz"
      },
      "source": [
        "%%timeit\r\n",
        "from sklearn.decomposition import PCA\r\n",
        "\r\n",
        "pca = PCA().fit(c)\r\n",
        "\r\n",
        "plt.plot(np.cumsum(pca.explained_variance_ratio_))\r\n",
        "plt.xlim(0,784,1)\r\n",
        "plt.xlabel('Number of components')\r\n",
        "plt.ylabel('cumulative explained variance')"
      ],
      "execution_count": null,
      "outputs": []
    },
    {
      "cell_type": "code",
      "metadata": {
        "id": "tB-wB1WJKRmK"
      },
      "source": [
        "pca1 = PCA(n_components=784)\r\n",
        "df5=pca1.fit_transform(c)\r\n",
        "\r\n",
        "plt.plot(np.cumsum(pca1.explained_variance_ratio_))\r\n",
        "plt.xlim(0,783,1)\r\n",
        "plt.xlabel('Number of components')\r\n",
        "plt.ylabel('cumulative explained variance')"
      ],
      "execution_count": null,
      "outputs": []
    },
    {
      "cell_type": "code",
      "metadata": {
        "id": "TRdabe9-5nKI"
      },
      "source": [
        "pca2 = PCA(n_components=100)\r\n",
        "df5=pca2.fit_transform(c)\r\n",
        "\r\n",
        "plt.plot(np.cumsum(pca1.explained_variance_ratio_))\r\n",
        "plt.xlim(0,99,1)\r\n",
        "plt.xlabel('Number of components')\r\n",
        "plt.ylabel('cumulative explained variance')"
      ],
      "execution_count": null,
      "outputs": []
    },
    {
      "cell_type": "code",
      "metadata": {
        "id": "QezB2kkoYsyo"
      },
      "source": [
        "explained_variance = pca1.explained_variance_ratio_\r\n",
        "explained_variance"
      ],
      "execution_count": null,
      "outputs": []
    },
    {
      "cell_type": "code",
      "metadata": {
        "id": "HEhDHzNlZIOM"
      },
      "source": [
        "plt.bar(range(784),explained_variance, alpha=0.5, align='center', label='abc')\r\n",
        "plt.legend(loc='best')\r\n",
        "plt.tight_layout()"
      ],
      "execution_count": null,
      "outputs": []
    },
    {
      "cell_type": "code",
      "metadata": {
        "id": "ogw2YpC77sMM"
      },
      "source": [
        "explained_variance = pca2.explained_variance_ratio_\r\n",
        "explained_variance"
      ],
      "execution_count": null,
      "outputs": []
    },
    {
      "cell_type": "code",
      "metadata": {
        "id": "UFaCxTVG7x8m"
      },
      "source": [
        "plt.bar(range(100),explained_variance, alpha=0.5, align='center', label='abc')\r\n",
        "plt.legend(loc='best')\r\n",
        "plt.tight_layout()"
      ],
      "execution_count": null,
      "outputs": []
    },
    {
      "cell_type": "code",
      "metadata": {
        "id": "_6dup2yl9Xj0"
      },
      "source": [
        "pe= DataFrame(pca2.explained_variance_.round(2), index=['p'+ str(i) for i in range(1,101)], columns=['Explained Variance']).T\r\n",
        "per= DataFrame(pca2.explained_variance_ratio_.round(2), index=['p'+ str(i) for i in range(1,101)], columns=['Explained Variance']).T\r\n",
        "pe\r\n"
      ],
      "execution_count": null,
      "outputs": []
    },
    {
      "cell_type": "code",
      "metadata": {
        "id": "tLUpoOTj-YQG"
      },
      "source": [
        "per"
      ],
      "execution_count": null,
      "outputs": []
    },
    {
      "cell_type": "code",
      "metadata": {
        "id": "CQAZygPz-efJ"
      },
      "source": [
        "xyz= per['p1']"
      ],
      "execution_count": null,
      "outputs": []
    },
    {
      "cell_type": "code",
      "metadata": {
        "id": "BrkvAW73Q6xS"
      },
      "source": [
        "xyz"
      ],
      "execution_count": null,
      "outputs": []
    },
    {
      "cell_type": "code",
      "metadata": {
        "id": "U8frrACcTZ5X"
      },
      "source": [
        "pip install cufflinks"
      ],
      "execution_count": null,
      "outputs": []
    },
    {
      "cell_type": "code",
      "metadata": {
        "id": "Sp1ns2CLNHsJ"
      },
      "source": [
        "%%timeit\r\n",
        "from sklearn.discriminant_analysis import LinearDiscriminantAnalysis as LDA\r\n",
        "lda = LDA(n_components=5)\r\n",
        "# Taking in as second argument the Target as labels\r\n",
        "X_LDA_2D = lda.fit_transform(c, y.values )"
      ],
      "execution_count": null,
      "outputs": []
    },
    {
      "cell_type": "code",
      "metadata": {
        "id": "wGpg4kF9TefH"
      },
      "source": [
        " import os\r\n",
        "import pandas as pd\r\n",
        "import numpy as np\r\n",
        "import matplotlib.pyplot as plt\r\n",
        "import seaborn as sns\r\n",
        "import cufflinks as cf\r\n",
        "cf.go_offline()\r\n",
        "\r\n",
        "from sklearn.preprocessing import StandardScaler \r\n",
        "from sklearn.decomposition import PCA\r\n",
        "from sklearn.discriminant_analysis import LinearDiscriminantAnalysis as ld\r\n",
        "from sklearn.manifold import TSNE\r\n",
        "import umap\r\n",
        "\r\n",
        "# For plotting\r\n",
        "import plotly.io as plt_io\r\n",
        "import plotly.graph_objects as go\r\n",
        "%matplotlib inline"
      ],
      "execution_count": null,
      "outputs": []
    },
    {
      "cell_type": "code",
      "metadata": {
        "id": "x8fp5sfYU1lv"
      },
      "source": [
        "pip install dtale"
      ],
      "execution_count": null,
      "outputs": []
    },
    {
      "cell_type": "code",
      "metadata": {
        "id": "brniIZTQVEjE"
      },
      "source": [
        "import dtale"
      ],
      "execution_count": null,
      "outputs": []
    },
    {
      "cell_type": "code",
      "metadata": {
        "id": "31_uXc75F2d4"
      },
      "source": [
        "X_LDA_2D"
      ],
      "execution_count": null,
      "outputs": []
    },
    {
      "cell_type": "code",
      "metadata": {
        "id": "91FXOKfxGVPI"
      },
      "source": [
        "range = (0, 10) \r\n",
        "bins = 2 \r\n",
        "plt.hist(X_LDA_2D, bins, range,\r\n",
        "        histtype = 'bar', rwidth = 0.8) "
      ],
      "execution_count": null,
      "outputs": []
    },
    {
      "cell_type": "code",
      "metadata": {
        "id": "XP718bfKN8Op"
      },
      "source": [
        "\r\n",
        "plt.scatter(\r\n",
        "    X_LDA_2D[:, 0],\r\n",
        "    X_LDA_2D[:, 1],\r\n",
        "plt.gca().set_aspect('equal', 'datalim'))"
      ],
      "execution_count": null,
      "outputs": []
    },
    {
      "cell_type": "code",
      "metadata": {
        "id": "m9oFpchARBCk"
      },
      "source": [
        "plt.scatter(X_LDA_2D[:,0], X_LDA_2D[:,1], c=y)\r\n",
        "plt.show()\r\n"
      ],
      "execution_count": null,
      "outputs": []
    },
    {
      "cell_type": "code",
      "metadata": {
        "id": "hjWqv7sBOeRr"
      },
      "source": [
        "\r\n",
        "import plotly.offline as py\r\n",
        "traceLDA = go.Scatter(\r\n",
        "    x = X_LDA_2D[:,0],\r\n",
        "    y = X_LDA_2D[:,1],\r\n",
        "#     name = Target,\r\n",
        "#     hoveron = Target,\r\n",
        "    mode = 'markers',\r\n",
        "    \r\n",
        "    showlegend = True,\r\n",
        "    marker = dict(\r\n",
        "        size = 8,\r\n",
        "       \r\n",
        "        colorscale ='Jet',\r\n",
        "        showscale = False\r\n",
        "       \r\n",
        "    )\r\n",
        "\r\n",
        "\r\n",
        "    layout = go.Layout(\r\n",
        "    title= 'Linear Discriminant Analysis (LDA)',\r\n",
        "    hovermode= 'closest',\r\n",
        "    xaxis= dict(\r\n",
        "         title= 'First Linear Discriminant',\r\n",
        "        ticklen= 5,\r\n",
        "        zeroline= False,\r\n",
        "        gridwidth= 2,\r\n",
        "    ),\r\n",
        "    yaxis=dict(\r\n",
        "        title= 'Second Linear Discriminant',\r\n",
        "        ticklen= 5,\r\n",
        "        gridwidth= 2,\r\n",
        "    ),\r\n",
        "    showlegend= False\r\n",
        ")\r\n",
        "\r\n",
        "fig = dict(data=data, layout=layout)\r\n",
        "py.iplot(fig, filename='styled-scatter')"
      ],
      "execution_count": null,
      "outputs": []
    },
    {
      "cell_type": "code",
      "metadata": {
        "id": "kLDCmqC2O0Ee"
      },
      "source": [
        "from sklearn.manifold import TSNE"
      ],
      "execution_count": null,
      "outputs": []
    },
    {
      "cell_type": "code",
      "metadata": {
        "id": "FNvngjKhX20w"
      },
      "source": [
        "tsne = TSNE(n_components=2, verbose=1, perplexity=40, n_iter=300)\r\n",
        "tsne_results = tsne.fit_transform(c.head())"
      ],
      "execution_count": null,
      "outputs": []
    },
    {
      "cell_type": "code",
      "metadata": {
        "id": "lpw6VOQRdX4i"
      },
      "source": [
        "df6= c.head()"
      ],
      "execution_count": null,
      "outputs": []
    },
    {
      "cell_type": "code",
      "metadata": {
        "id": "MLLP5FtAYBN5"
      },
      "source": [
        "%%time\r\n",
        "df6['tsne-2d-one'] = tsne_results[:,0]\r\n",
        "df6['tsne-2d-two'] = tsne_results[:,1]\r\n",
        "plt.figure(figsize=(16,10))\r\n",
        "sns.scatterplot(\r\n",
        "    x=\"tsne-2d-one\", y=\"tsne-2d-two\",\r\n",
        "    hue=\"tsne-2d-two\",\r\n",
        "    \r\n",
        "    data=df6,\r\n",
        "    legend=\"full\",\r\n",
        "\r\n",
        "\r\n",
        "   \r\n",
        ")"
      ],
      "execution_count": null,
      "outputs": []
    },
    {
      "cell_type": "code",
      "metadata": {
        "id": "D18YEe_Edfk0"
      },
      "source": [
        "import umap"
      ],
      "execution_count": null,
      "outputs": []
    },
    {
      "cell_type": "code",
      "metadata": {
        "id": "ec1GiJtfiDUH"
      },
      "source": [
        "from sklearn.datasets import load_digits"
      ],
      "execution_count": null,
      "outputs": []
    },
    {
      "cell_type": "code",
      "metadata": {
        "id": "mWJwAb9-iIWp"
      },
      "source": [
        "pendigits = load_digits()"
      ],
      "execution_count": null,
      "outputs": []
    },
    {
      "cell_type": "code",
      "metadata": {
        "id": "JnVB16gJikWC"
      },
      "source": [
        "%%time\r\n",
        "mapper = umap.UMAP().fit_transform(df6)"
      ],
      "execution_count": null,
      "outputs": []
    },
    {
      "cell_type": "code",
      "metadata": {
        "id": "DJeg3kI9mVyB"
      },
      "source": [
        "mapper"
      ],
      "execution_count": null,
      "outputs": []
    },
    {
      "cell_type": "code",
      "metadata": {
        "id": "_gG8XvOsi6z9"
      },
      "source": [
        "pip install datashader"
      ],
      "execution_count": null,
      "outputs": []
    },
    {
      "cell_type": "code",
      "metadata": {
        "id": "L2tIXv9ljEbu"
      },
      "source": [
        "pip install bokeh"
      ],
      "execution_count": null,
      "outputs": []
    },
    {
      "cell_type": "code",
      "metadata": {
        "id": "9SHFgklUkChl"
      },
      "source": [
        "pip install holoviews"
      ],
      "execution_count": null,
      "outputs": []
    },
    {
      "cell_type": "code",
      "metadata": {
        "id": "rvGN9cNIkVGn"
      },
      "source": [
        "import datashader"
      ],
      "execution_count": null,
      "outputs": []
    },
    {
      "cell_type": "code",
      "metadata": {
        "id": "fGPEiVCbkZdV"
      },
      "source": [
        "import bokeh"
      ],
      "execution_count": null,
      "outputs": []
    },
    {
      "cell_type": "code",
      "metadata": {
        "id": "gx919ytNkdrl"
      },
      "source": [
        "import holoviews"
      ],
      "execution_count": null,
      "outputs": []
    },
    {
      "cell_type": "code",
      "metadata": {
        "id": "DWXfg3pUkgSt"
      },
      "source": [
        "import umap.plot"
      ],
      "execution_count": null,
      "outputs": []
    },
    {
      "cell_type": "code",
      "metadata": {
        "id": "lvaBm7wjkjYF"
      },
      "source": [
        "q=pd.DataFrame(mapper)\r\n",
        "sns.barplot(data=q)\r\n",
        "plt.show()"
      ],
      "execution_count": null,
      "outputs": []
    },
    {
      "cell_type": "code",
      "metadata": {
        "id": "qHl0WJfakoC4"
      },
      "source": [
        "\r\n",
        "\r\n",
        "plt.scatter(\r\n",
        "    mapper[:, 0],\r\n",
        "    mapper[:, 1],\r\n",
        "plt.gca().set_aspect('equal', 'datalim'))"
      ],
      "execution_count": null,
      "outputs": []
    },
    {
      "cell_type": "code",
      "metadata": {
        "id": "mpKZ-0RMm8Z0"
      },
      "source": [
        ""
      ],
      "execution_count": null,
      "outputs": []
    }
  ]
}